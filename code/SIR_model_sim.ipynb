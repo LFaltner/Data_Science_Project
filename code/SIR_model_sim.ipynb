{
 "cells": [
  {
   "cell_type": "code",
   "execution_count": 1,
   "id": "14ddd662",
   "metadata": {},
   "outputs": [
    {
     "ename": "ModuleNotFoundError",
     "evalue": "No module named 'models'",
     "output_type": "error",
     "traceback": [
      "Traceback \u001b[1;36m(most recent call last)\u001b[0m:\n",
      "\u001b[1;36m  Input \u001b[1;32mIn [1]\u001b[1;36m in \u001b[1;35m<cell line: 1>\u001b[1;36m\u001b[0m\n\u001b[1;33m    from models.SIR_model import SIR_model\u001b[0m\n",
      "\u001b[1;31mModuleNotFoundError\u001b[0m\u001b[1;31m:\u001b[0m No module named 'models'\n"
     ]
    }
   ],
   "source": [
    "from models.SIR_model import SIR_model"
   ]
  },
  {
   "cell_type": "code",
   "execution_count": null,
   "id": "249c1787",
   "metadata": {},
   "outputs": [],
   "source": [
    "start_date = '2020-09-01'\n",
    "end_date = '2021-03-01'\n",
    "country = \"Switzerland\"\n",
    "a = SIR_model(country,start_date,end_date)"
   ]
  },
  {
   "cell_type": "code",
   "execution_count": null,
   "id": "5ae2075d",
   "metadata": {},
   "outputs": [],
   "source": [
    "a.create_sir()"
   ]
  },
  {
   "cell_type": "code",
   "execution_count": null,
   "id": "63c1bde0",
   "metadata": {},
   "outputs": [],
   "source": [
    "a.create_main()\n",
    "    "
   ]
  },
  {
   "cell_type": "code",
   "execution_count": null,
   "id": "5c505b11",
   "metadata": {},
   "outputs": [],
   "source": [
    "a.create_scenario(name=\"Lockdown\",scenario_end_list=[\"31Mar2021\",\"20Apr2021\",\"30Apr2021\"],\n",
    "                  rho_constant_list=[0.5,2,0.5],\n",
    "                  sigma_constant_list=[2,0.5,1],\n",
    "                  plot=False)\n"
   ]
  },
  {
   "cell_type": "code",
   "execution_count": null,
   "id": "cae5cc27",
   "metadata": {},
   "outputs": [],
   "source": [
    "# could potentially return infected_df, confirmed_df and snl.describe()\n",
    "a.create_scenario(name=\"Masks2\",\n",
    "                  scenario_end_list=[\"31Mar2021\",\"20Apr2021\",\"30Apr2021\"],\n",
    "                  rho_constant_list=[0.3,1.5,0.5],\n",
    "                  sigma_constant_list=[2,0.5,1],\n",
    "                  plot=True)"
   ]
  },
  {
   "cell_type": "code",
   "execution_count": null,
   "id": "76cda8bf",
   "metadata": {},
   "outputs": [],
   "source": [
    "sim_lockdown = a.simulate_scenario(\"Lockdown\")"
   ]
  },
  {
   "cell_type": "code",
   "execution_count": null,
   "id": "1561ae89",
   "metadata": {},
   "outputs": [],
   "source": [
    "sim_main = a.simulate_scenario(\"Masks\")"
   ]
  }
 ],
 "metadata": {
  "kernelspec": {
   "display_name": "Python 3 (Spyder)",
   "language": "python3",
   "name": "python3"
  },
  "language_info": {
   "codemirror_mode": {
    "name": "ipython",
    "version": 3
   },
   "file_extension": ".py",
   "mimetype": "text/x-python",
   "name": "python",
   "nbconvert_exporter": "python",
   "pygments_lexer": "ipython3",
   "version": "3.8.13"
  }
 },
 "nbformat": 4,
 "nbformat_minor": 5
}
