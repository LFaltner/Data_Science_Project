{
 "cells": [
  {
   "cell_type": "markdown",
   "id": "bd2bb240",
   "metadata": {},
   "source": [
    "# SIR models with CovsirPhy"
   ]
  },
  {
   "cell_type": "code",
   "execution_count": 3,
   "id": "e572de71",
   "metadata": {},
   "outputs": [],
   "source": [
    "# imports \n",
    "import pandas as pd\n",
    "import covsirphy as cs\n",
    "import matplotlib.pyplot as plt\n",
    "from pprint import pprint"
   ]
  },
  {
   "cell_type": "markdown",
   "id": "a8f3e2e0",
   "metadata": {},
   "source": [
    "### Load the data"
   ]
  },
  {
   "cell_type": "code",
   "execution_count": 2,
   "id": "333f6dc5",
   "metadata": {},
   "outputs": [
    {
     "name": "stdout",
     "output_type": "stream",
     "text": [
      "Retrieving COVID-19 dataset in Japan from https://github.com/lisphilar/covid19-sir/data/japan\n",
      "Retrieving datasets from COVID-19 Data Hub https://covid19datahub.io/\n",
      "\tPlease set verbose=2 to see the detailed citation list.\n",
      "Retrieving datasets from Our World In Data https://github.com/owid/covid-19-data/\n",
      "Retrieving datasets from COVID-19 Open Data by Google Cloud Platform https://github.com/GoogleCloudPlatform/covid-19-open-data\n"
     ]
    }
   ],
   "source": [
    "# loading the data -> stored in kaggle/input\n",
    "# data will be downloaded if existing files are older than 24h\n",
    "data_loader = cs.DataLoader(directory=\"kaggle/input\")\n",
    "\n",
    "# The number of cases and population values in jhu format\n",
    "jhu_data = data_loader.jhu()\n",
    "\n",
    "#cases and deaths whole dataset\n",
    "total_df = jhu_data.total()"
   ]
  },
  {
   "cell_type": "markdown",
   "id": "9dd5aea9",
   "metadata": {},
   "source": [
    "### Prepare the data"
   ]
  },
  {
   "cell_type": "markdown",
   "id": "6e077ea3",
   "metadata": {},
   "source": [
    "The first case in Switzerland was confirmed on 2020-02-24."
   ]
  },
  {
   "cell_type": "code",
   "execution_count": 4,
   "id": "3cd8a40e",
   "metadata": {},
   "outputs": [],
   "source": [
    "# get the population size at the starting point\n",
    "whole_df = jhu_data.cleaned()\n",
    "whole_df = whole_df.loc[(whole_df[\"Country\"] == \"Switzerland\")].copy()\n",
    "whole_df['Date'] = pd.to_datetime(whole_df['Date'])\n",
    "\n",
    "# define a time range\n",
    "start_date = pd.to_datetime('2020-09-01')\n",
    "end_date = pd.to_datetime('2020-12-01')\n",
    "mask = (whole_df['Date'] >= start_date) & (whole_df['Date'] <= end_date)\n",
    "df_timerange = whole_df.loc[mask]\n",
    "\n",
    "# drop provinces\n",
    "province_mask = df_timerange[\"Province\"] == \"-\"\n",
    "df_timerange = df_timerange.loc[province_mask]\n",
    "df_timerange.index = pd.RangeIndex(len(df_timerange))"
   ]
  },
  {
   "cell_type": "code",
   "execution_count": 5,
   "id": "071ae521",
   "metadata": {},
   "outputs": [
    {
     "data": {
      "text/html": [
       "<div>\n",
       "<style scoped>\n",
       "    .dataframe tbody tr th:only-of-type {\n",
       "        vertical-align: middle;\n",
       "    }\n",
       "\n",
       "    .dataframe tbody tr th {\n",
       "        vertical-align: top;\n",
       "    }\n",
       "\n",
       "    .dataframe thead th {\n",
       "        text-align: right;\n",
       "    }\n",
       "</style>\n",
       "<table border=\"1\" class=\"dataframe\">\n",
       "  <thead>\n",
       "    <tr style=\"text-align: right;\">\n",
       "      <th></th>\n",
       "      <th>Date</th>\n",
       "      <th>ISO3</th>\n",
       "      <th>Country</th>\n",
       "      <th>Province</th>\n",
       "      <th>Confirmed</th>\n",
       "      <th>Infected</th>\n",
       "      <th>Fatal</th>\n",
       "      <th>Recovered</th>\n",
       "      <th>Population</th>\n",
       "    </tr>\n",
       "  </thead>\n",
       "  <tbody>\n",
       "    <tr>\n",
       "      <th>0</th>\n",
       "      <td>2020-09-01</td>\n",
       "      <td>CHE</td>\n",
       "      <td>Switzerland</td>\n",
       "      <td>-</td>\n",
       "      <td>42959</td>\n",
       "      <td>4887</td>\n",
       "      <td>1772</td>\n",
       "      <td>36300</td>\n",
       "      <td>8513227</td>\n",
       "    </tr>\n",
       "    <tr>\n",
       "      <th>1</th>\n",
       "      <td>2020-09-02</td>\n",
       "      <td>CHE</td>\n",
       "      <td>Switzerland</td>\n",
       "      <td>-</td>\n",
       "      <td>43376</td>\n",
       "      <td>5101</td>\n",
       "      <td>1775</td>\n",
       "      <td>36500</td>\n",
       "      <td>8513227</td>\n",
       "    </tr>\n",
       "    <tr>\n",
       "      <th>2</th>\n",
       "      <td>2020-09-03</td>\n",
       "      <td>CHE</td>\n",
       "      <td>Switzerland</td>\n",
       "      <td>-</td>\n",
       "      <td>43814</td>\n",
       "      <td>5538</td>\n",
       "      <td>1776</td>\n",
       "      <td>36500</td>\n",
       "      <td>8513227</td>\n",
       "    </tr>\n",
       "    <tr>\n",
       "      <th>3</th>\n",
       "      <td>2020-09-04</td>\n",
       "      <td>CHE</td>\n",
       "      <td>Switzerland</td>\n",
       "      <td>-</td>\n",
       "      <td>44241</td>\n",
       "      <td>5963</td>\n",
       "      <td>1778</td>\n",
       "      <td>36500</td>\n",
       "      <td>8513227</td>\n",
       "    </tr>\n",
       "    <tr>\n",
       "      <th>4</th>\n",
       "      <td>2020-09-05</td>\n",
       "      <td>CHE</td>\n",
       "      <td>Switzerland</td>\n",
       "      <td>-</td>\n",
       "      <td>44536</td>\n",
       "      <td>5656</td>\n",
       "      <td>1780</td>\n",
       "      <td>37100</td>\n",
       "      <td>8513227</td>\n",
       "    </tr>\n",
       "    <tr>\n",
       "      <th>...</th>\n",
       "      <td>...</td>\n",
       "      <td>...</td>\n",
       "      <td>...</td>\n",
       "      <td>...</td>\n",
       "      <td>...</td>\n",
       "      <td>...</td>\n",
       "      <td>...</td>\n",
       "      <td>...</td>\n",
       "      <td>...</td>\n",
       "    </tr>\n",
       "    <tr>\n",
       "      <th>87</th>\n",
       "      <td>2020-11-27</td>\n",
       "      <td>CHE</td>\n",
       "      <td>Switzerland</td>\n",
       "      <td>-</td>\n",
       "      <td>322966</td>\n",
       "      <td>96221</td>\n",
       "      <td>4645</td>\n",
       "      <td>222100</td>\n",
       "      <td>8513227</td>\n",
       "    </tr>\n",
       "    <tr>\n",
       "      <th>88</th>\n",
       "      <td>2020-11-28</td>\n",
       "      <td>CHE</td>\n",
       "      <td>Switzerland</td>\n",
       "      <td>-</td>\n",
       "      <td>325277</td>\n",
       "      <td>98443</td>\n",
       "      <td>4734</td>\n",
       "      <td>222100</td>\n",
       "      <td>8513227</td>\n",
       "    </tr>\n",
       "    <tr>\n",
       "      <th>89</th>\n",
       "      <td>2020-11-29</td>\n",
       "      <td>CHE</td>\n",
       "      <td>Switzerland</td>\n",
       "      <td>-</td>\n",
       "      <td>326968</td>\n",
       "      <td>100050</td>\n",
       "      <td>4818</td>\n",
       "      <td>222100</td>\n",
       "      <td>8513227</td>\n",
       "    </tr>\n",
       "    <tr>\n",
       "      <th>90</th>\n",
       "      <td>2020-11-30</td>\n",
       "      <td>CHE</td>\n",
       "      <td>Switzerland</td>\n",
       "      <td>-</td>\n",
       "      <td>332236</td>\n",
       "      <td>77123</td>\n",
       "      <td>4913</td>\n",
       "      <td>250200</td>\n",
       "      <td>8513227</td>\n",
       "    </tr>\n",
       "    <tr>\n",
       "      <th>91</th>\n",
       "      <td>2020-12-01</td>\n",
       "      <td>CHE</td>\n",
       "      <td>Switzerland</td>\n",
       "      <td>-</td>\n",
       "      <td>336488</td>\n",
       "      <td>81287</td>\n",
       "      <td>5001</td>\n",
       "      <td>250200</td>\n",
       "      <td>8513227</td>\n",
       "    </tr>\n",
       "  </tbody>\n",
       "</table>\n",
       "<p>92 rows × 9 columns</p>\n",
       "</div>"
      ],
      "text/plain": [
       "         Date ISO3      Country Province  Confirmed  Infected  Fatal  \\\n",
       "0  2020-09-01  CHE  Switzerland        -      42959      4887   1772   \n",
       "1  2020-09-02  CHE  Switzerland        -      43376      5101   1775   \n",
       "2  2020-09-03  CHE  Switzerland        -      43814      5538   1776   \n",
       "3  2020-09-04  CHE  Switzerland        -      44241      5963   1778   \n",
       "4  2020-09-05  CHE  Switzerland        -      44536      5656   1780   \n",
       "..        ...  ...          ...      ...        ...       ...    ...   \n",
       "87 2020-11-27  CHE  Switzerland        -     322966     96221   4645   \n",
       "88 2020-11-28  CHE  Switzerland        -     325277     98443   4734   \n",
       "89 2020-11-29  CHE  Switzerland        -     326968    100050   4818   \n",
       "90 2020-11-30  CHE  Switzerland        -     332236     77123   4913   \n",
       "91 2020-12-01  CHE  Switzerland        -     336488     81287   5001   \n",
       "\n",
       "    Recovered  Population  \n",
       "0       36300     8513227  \n",
       "1       36500     8513227  \n",
       "2       36500     8513227  \n",
       "3       36500     8513227  \n",
       "4       37100     8513227  \n",
       "..        ...         ...  \n",
       "87     222100     8513227  \n",
       "88     222100     8513227  \n",
       "89     222100     8513227  \n",
       "90     250200     8513227  \n",
       "91     250200     8513227  \n",
       "\n",
       "[92 rows x 9 columns]"
      ]
     },
     "execution_count": 5,
     "metadata": {},
     "output_type": "execute_result"
    }
   ],
   "source": [
    "df_timerange"
   ]
  },
  {
   "cell_type": "markdown",
   "id": "baa45b1d",
   "metadata": {},
   "source": [
    "### setting up a simple SIR model"
   ]
  },
  {
   "cell_type": "code",
   "execution_count": 6,
   "id": "4ca49895",
   "metadata": {},
   "outputs": [
    {
     "name": "stdout",
     "output_type": "stream",
     "text": [
      "91\n"
     ]
    }
   ],
   "source": [
    "# setting parameter for the model\n",
    "params = {'theta': 0.005, 'kappa': 0.005, 'rho': 0.1, 'sigma': 0.05}\n",
    "start_dict = {'Fatal or Recovered': 1772 + 36300, 'Infected': 4887, 'Susceptible': 8513227 - 4887 - 36300}\n",
    "population = 8513227\n",
    "days = (end_date - start_date).days\n",
    "print(days)"
   ]
  },
  {
   "cell_type": "code",
   "execution_count": 7,
   "id": "116a3540",
   "metadata": {},
   "outputs": [
    {
     "name": "stdout",
     "output_type": "stream",
     "text": [
      "SIR\n",
      "{'param_dict': {'kappa': 0.005, 'rho': 0.1, 'sigma': 0.05, 'theta': 0.005},\n",
      " 'population': 8513227,\n",
      " 'step_n': 91,\n",
      " 'y0_dict': {'Fatal or Recovered': 38072,\n",
      "             'Infected': 4887,\n",
      "             'Susceptible': 8472040}}\n"
     ]
    }
   ],
   "source": [
    "model = cs.SIR\n",
    "model.EXAMPLE[\"param_dict\"] = params\n",
    "model.EXAMPLE['y0_dict'] = start_dict\n",
    "model.EXAMPLE['population'] = population\n",
    "model.EXAMPLE['step_n'] = days\n",
    "\n",
    "# Set tau value and start date of records\n",
    "example_data = cs.ExampleData(tau=1440, start_date=\"01Sep2020\")\n",
    "# Model name\n",
    "print(cs.SIR.NAME)\n",
    "# Example parameter values\n",
    "pprint(cs.SIR.EXAMPLE, compact=True)"
   ]
  },
  {
   "cell_type": "code",
   "execution_count": 8,
   "id": "fb8a41b3",
   "metadata": {},
   "outputs": [
    {
     "data": {
      "text/html": [
       "<div>\n",
       "<style scoped>\n",
       "    .dataframe tbody tr th:only-of-type {\n",
       "        vertical-align: middle;\n",
       "    }\n",
       "\n",
       "    .dataframe tbody tr th {\n",
       "        vertical-align: top;\n",
       "    }\n",
       "\n",
       "    .dataframe thead th {\n",
       "        text-align: right;\n",
       "    }\n",
       "</style>\n",
       "<table border=\"1\" class=\"dataframe\">\n",
       "  <thead>\n",
       "    <tr style=\"text-align: right;\">\n",
       "      <th></th>\n",
       "      <th>Date</th>\n",
       "      <th>Country</th>\n",
       "      <th>Province</th>\n",
       "      <th>Confirmed</th>\n",
       "      <th>Infected</th>\n",
       "      <th>Fatal</th>\n",
       "      <th>Recovered</th>\n",
       "      <th>ISO3</th>\n",
       "      <th>Population</th>\n",
       "    </tr>\n",
       "  </thead>\n",
       "  <tbody>\n",
       "    <tr>\n",
       "      <th>0</th>\n",
       "      <td>2020-09-01</td>\n",
       "      <td>Switzerland</td>\n",
       "      <td>-</td>\n",
       "      <td>42959</td>\n",
       "      <td>4887</td>\n",
       "      <td>0</td>\n",
       "      <td>38072</td>\n",
       "      <td>-</td>\n",
       "      <td>8513227.0</td>\n",
       "    </tr>\n",
       "    <tr>\n",
       "      <th>1</th>\n",
       "      <td>2020-09-02</td>\n",
       "      <td>Switzerland</td>\n",
       "      <td>-</td>\n",
       "      <td>43457</td>\n",
       "      <td>5135</td>\n",
       "      <td>0</td>\n",
       "      <td>38322</td>\n",
       "      <td>-</td>\n",
       "      <td>8513227.0</td>\n",
       "    </tr>\n",
       "    <tr>\n",
       "      <th>2</th>\n",
       "      <td>2020-09-03</td>\n",
       "      <td>Switzerland</td>\n",
       "      <td>-</td>\n",
       "      <td>43981</td>\n",
       "      <td>5395</td>\n",
       "      <td>0</td>\n",
       "      <td>38586</td>\n",
       "      <td>-</td>\n",
       "      <td>8513227.0</td>\n",
       "    </tr>\n",
       "    <tr>\n",
       "      <th>3</th>\n",
       "      <td>2020-09-04</td>\n",
       "      <td>Switzerland</td>\n",
       "      <td>-</td>\n",
       "      <td>44531</td>\n",
       "      <td>5669</td>\n",
       "      <td>0</td>\n",
       "      <td>38862</td>\n",
       "      <td>-</td>\n",
       "      <td>8513227.0</td>\n",
       "    </tr>\n",
       "    <tr>\n",
       "      <th>4</th>\n",
       "      <td>2020-09-05</td>\n",
       "      <td>Switzerland</td>\n",
       "      <td>-</td>\n",
       "      <td>45110</td>\n",
       "      <td>5957</td>\n",
       "      <td>0</td>\n",
       "      <td>39153</td>\n",
       "      <td>-</td>\n",
       "      <td>8513227.0</td>\n",
       "    </tr>\n",
       "    <tr>\n",
       "      <th>...</th>\n",
       "      <td>...</td>\n",
       "      <td>...</td>\n",
       "      <td>...</td>\n",
       "      <td>...</td>\n",
       "      <td>...</td>\n",
       "      <td>...</td>\n",
       "      <td>...</td>\n",
       "      <td>...</td>\n",
       "      <td>...</td>\n",
       "    </tr>\n",
       "    <tr>\n",
       "      <th>87</th>\n",
       "      <td>2020-11-27</td>\n",
       "      <td>Switzerland</td>\n",
       "      <td>-</td>\n",
       "      <td>685038</td>\n",
       "      <td>311461</td>\n",
       "      <td>0</td>\n",
       "      <td>373577</td>\n",
       "      <td>-</td>\n",
       "      <td>8513227.0</td>\n",
       "    </tr>\n",
       "    <tr>\n",
       "      <th>88</th>\n",
       "      <td>2020-11-28</td>\n",
       "      <td>Switzerland</td>\n",
       "      <td>-</td>\n",
       "      <td>714231</td>\n",
       "      <td>324751</td>\n",
       "      <td>0</td>\n",
       "      <td>389480</td>\n",
       "      <td>-</td>\n",
       "      <td>8513227.0</td>\n",
       "    </tr>\n",
       "    <tr>\n",
       "      <th>89</th>\n",
       "      <td>2020-11-29</td>\n",
       "      <td>Switzerland</td>\n",
       "      <td>-</td>\n",
       "      <td>744549</td>\n",
       "      <td>338490</td>\n",
       "      <td>0</td>\n",
       "      <td>406059</td>\n",
       "      <td>-</td>\n",
       "      <td>8513227.0</td>\n",
       "    </tr>\n",
       "    <tr>\n",
       "      <th>90</th>\n",
       "      <td>2020-11-30</td>\n",
       "      <td>Switzerland</td>\n",
       "      <td>-</td>\n",
       "      <td>776018</td>\n",
       "      <td>352682</td>\n",
       "      <td>0</td>\n",
       "      <td>423336</td>\n",
       "      <td>-</td>\n",
       "      <td>8513227.0</td>\n",
       "    </tr>\n",
       "    <tr>\n",
       "      <th>91</th>\n",
       "      <td>2020-12-01</td>\n",
       "      <td>Switzerland</td>\n",
       "      <td>-</td>\n",
       "      <td>808666</td>\n",
       "      <td>367331</td>\n",
       "      <td>0</td>\n",
       "      <td>441335</td>\n",
       "      <td>-</td>\n",
       "      <td>8513227.0</td>\n",
       "    </tr>\n",
       "  </tbody>\n",
       "</table>\n",
       "<p>92 rows × 9 columns</p>\n",
       "</div>"
      ],
      "text/plain": [
       "         Date      Country Province  Confirmed  Infected  Fatal  Recovered  \\\n",
       "0  2020-09-01  Switzerland        -      42959      4887      0      38072   \n",
       "1  2020-09-02  Switzerland        -      43457      5135      0      38322   \n",
       "2  2020-09-03  Switzerland        -      43981      5395      0      38586   \n",
       "3  2020-09-04  Switzerland        -      44531      5669      0      38862   \n",
       "4  2020-09-05  Switzerland        -      45110      5957      0      39153   \n",
       "..        ...          ...      ...        ...       ...    ...        ...   \n",
       "87 2020-11-27  Switzerland        -     685038    311461      0     373577   \n",
       "88 2020-11-28  Switzerland        -     714231    324751      0     389480   \n",
       "89 2020-11-29  Switzerland        -     744549    338490      0     406059   \n",
       "90 2020-11-30  Switzerland        -     776018    352682      0     423336   \n",
       "91 2020-12-01  Switzerland        -     808666    367331      0     441335   \n",
       "\n",
       "   ISO3  Population  \n",
       "0     -   8513227.0  \n",
       "1     -   8513227.0  \n",
       "2     -   8513227.0  \n",
       "3     -   8513227.0  \n",
       "4     -   8513227.0  \n",
       "..  ...         ...  \n",
       "87    -   8513227.0  \n",
       "88    -   8513227.0  \n",
       "89    -   8513227.0  \n",
       "90    -   8513227.0  \n",
       "91    -   8513227.0  \n",
       "\n",
       "[92 rows x 9 columns]"
      ]
     },
     "execution_count": 8,
     "metadata": {},
     "output_type": "execute_result"
    }
   ],
   "source": [
    "model = cs.SIR\n",
    "area = {\"country\": \"Switzerland\"}\n",
    "# Add records with SIR model\n",
    "example_data.add(model, **area)\n",
    "\n",
    "\n",
    "# Records with model variables\n",
    "df = example_data.cleaned()\n",
    "df"
   ]
  },
  {
   "cell_type": "code",
   "execution_count": 9,
   "id": "b4446065",
   "metadata": {},
   "outputs": [],
   "source": [
    "# prepare the result dataframe\n",
    "res_df = df.drop([\"Country\", \"Province\", \"Confirmed\", \"ISO3\", \"Population\"], axis = 1)\n",
    "\n",
    "# add results from the model\n",
    "res_df[\"actual Infected\"] = df_timerange[\"Infected\"]"
   ]
  },
  {
   "cell_type": "code",
   "execution_count": 10,
   "id": "25a5eff3",
   "metadata": {},
   "outputs": [
    {
     "data": {
      "image/png": "[encoded data removed]",
      "text/plain": [
       "<Figure size 648x432 with 1 Axes>"
      ]
     },
     "metadata": {
      "needs_background": "light"
     },
     "output_type": "display_data"
    },
    {
     "data": {
      "text/html": [
       "<div>\n",
       "<style scoped>\n",
       "    .dataframe tbody tr th:only-of-type {\n",
       "        vertical-align: middle;\n",
       "    }\n",
       "\n",
       "    .dataframe tbody tr th {\n",
       "        vertical-align: top;\n",
       "    }\n",
       "\n",
       "    .dataframe thead th {\n",
       "        text-align: right;\n",
       "    }\n",
       "</style>\n",
       "<table border=\"1\" class=\"dataframe\">\n",
       "  <thead>\n",
       "    <tr style=\"text-align: right;\">\n",
       "      <th></th>\n",
       "      <th>Date</th>\n",
       "      <th>Infected</th>\n",
       "      <th>Fatal</th>\n",
       "      <th>Recovered</th>\n",
       "      <th>actual Infected</th>\n",
       "    </tr>\n",
       "  </thead>\n",
       "  <tbody>\n",
       "    <tr>\n",
       "      <th>0</th>\n",
       "      <td>2020-09-01</td>\n",
       "      <td>4887</td>\n",
       "      <td>0</td>\n",
       "      <td>38072</td>\n",
       "      <td>4887</td>\n",
       "    </tr>\n",
       "    <tr>\n",
       "      <th>1</th>\n",
       "      <td>2020-09-02</td>\n",
       "      <td>5135</td>\n",
       "      <td>0</td>\n",
       "      <td>38322</td>\n",
       "      <td>5101</td>\n",
       "    </tr>\n",
       "    <tr>\n",
       "      <th>2</th>\n",
       "      <td>2020-09-03</td>\n",
       "      <td>5395</td>\n",
       "      <td>0</td>\n",
       "      <td>38586</td>\n",
       "      <td>5538</td>\n",
       "    </tr>\n",
       "    <tr>\n",
       "      <th>3</th>\n",
       "      <td>2020-09-04</td>\n",
       "      <td>5669</td>\n",
       "      <td>0</td>\n",
       "      <td>38862</td>\n",
       "      <td>5963</td>\n",
       "    </tr>\n",
       "    <tr>\n",
       "      <th>4</th>\n",
       "      <td>2020-09-05</td>\n",
       "      <td>5957</td>\n",
       "      <td>0</td>\n",
       "      <td>39153</td>\n",
       "      <td>5656</td>\n",
       "    </tr>\n",
       "    <tr>\n",
       "      <th>...</th>\n",
       "      <td>...</td>\n",
       "      <td>...</td>\n",
       "      <td>...</td>\n",
       "      <td>...</td>\n",
       "      <td>...</td>\n",
       "    </tr>\n",
       "    <tr>\n",
       "      <th>87</th>\n",
       "      <td>2020-11-27</td>\n",
       "      <td>311461</td>\n",
       "      <td>0</td>\n",
       "      <td>373577</td>\n",
       "      <td>96221</td>\n",
       "    </tr>\n",
       "    <tr>\n",
       "      <th>88</th>\n",
       "      <td>2020-11-28</td>\n",
       "      <td>324751</td>\n",
       "      <td>0</td>\n",
       "      <td>389480</td>\n",
       "      <td>98443</td>\n",
       "    </tr>\n",
       "    <tr>\n",
       "      <th>89</th>\n",
       "      <td>2020-11-29</td>\n",
       "      <td>338490</td>\n",
       "      <td>0</td>\n",
       "      <td>406059</td>\n",
       "      <td>100050</td>\n",
       "    </tr>\n",
       "    <tr>\n",
       "      <th>90</th>\n",
       "      <td>2020-11-30</td>\n",
       "      <td>352682</td>\n",
       "      <td>0</td>\n",
       "      <td>423336</td>\n",
       "      <td>77123</td>\n",
       "    </tr>\n",
       "    <tr>\n",
       "      <th>91</th>\n",
       "      <td>2020-12-01</td>\n",
       "      <td>367331</td>\n",
       "      <td>0</td>\n",
       "      <td>441335</td>\n",
       "      <td>81287</td>\n",
       "    </tr>\n",
       "  </tbody>\n",
       "</table>\n",
       "<p>92 rows × 5 columns</p>\n",
       "</div>"
      ],
      "text/plain": [
       "         Date  Infected  Fatal  Recovered  actual Infected\n",
       "0  2020-09-01      4887      0      38072             4887\n",
       "1  2020-09-02      5135      0      38322             5101\n",
       "2  2020-09-03      5395      0      38586             5538\n",
       "3  2020-09-04      5669      0      38862             5963\n",
       "4  2020-09-05      5957      0      39153             5656\n",
       "..        ...       ...    ...        ...              ...\n",
       "87 2020-11-27    311461      0     373577            96221\n",
       "88 2020-11-28    324751      0     389480            98443\n",
       "89 2020-11-29    338490      0     406059           100050\n",
       "90 2020-11-30    352682      0     423336            77123\n",
       "91 2020-12-01    367331      0     441335            81287\n",
       "\n",
       "[92 rows x 5 columns]"
      ]
     },
     "execution_count": 10,
     "metadata": {},
     "output_type": "execute_result"
    }
   ],
   "source": [
    "#cs.line_plot(df.set_index(\"Date\"), title=f\"Example data of {model.NAME} model\", y_integer=True)\n",
    "cs.line_plot(res_df.set_index(\"Date\"), title=f\"Plot of {model.NAME} model\", y_integer=True)\n",
    "res_df"
   ]
  },
  {
   "cell_type": "markdown",
   "id": "c8cd6485",
   "metadata": {},
   "source": [
    "### Creating scenarios of SIR model\n"
   ]
  },
  {
   "cell_type": "code",
   "execution_count": 14,
   "id": "79877853",
   "metadata": {},
   "outputs": [],
   "source": [
    "# baseline of scenario\n",
    "\n",
    "preset_dict = cs.SIR.EXAMPLE['param_dict']"
   ]
  },
  {
   "cell_type": "code",
   "execution_count": 12,
   "id": "53b44ed5",
   "metadata": {},
   "outputs": [
    {
     "data": {
      "image/png": "[encoded data removed]",
      "text/plain": [
       "<Figure size 648x432 with 1 Axes>"
      ]
     },
     "metadata": {
      "needs_background": "light"
     },
     "output_type": "display_data"
    }
   ],
   "source": [
    "# create a scenario\n",
    "\n",
    "snl = cs.Scenario(tau = 1440, **area)\n",
    "snl.register(example_data)\n",
    "\n",
    "# get the records of the scenario instance\n",
    "\n",
    "record_df = snl.records()"
   ]
  },
  {
   "cell_type": "code",
   "execution_count": 16,
   "id": "3abb3654",
   "metadata": {},
   "outputs": [
    {
     "data": {
      "text/html": [
       "<div>\n",
       "<style scoped>\n",
       "    .dataframe tbody tr th:only-of-type {\n",
       "        vertical-align: middle;\n",
       "    }\n",
       "\n",
       "    .dataframe tbody tr th {\n",
       "        vertical-align: top;\n",
       "    }\n",
       "\n",
       "    .dataframe thead th {\n",
       "        text-align: right;\n",
       "    }\n",
       "</style>\n",
       "<table border=\"1\" class=\"dataframe\">\n",
       "  <thead>\n",
       "    <tr style=\"text-align: right;\">\n",
       "      <th></th>\n",
       "      <th>Type</th>\n",
       "      <th>Start</th>\n",
       "      <th>End</th>\n",
       "      <th>Population</th>\n",
       "      <th>ODE</th>\n",
       "      <th>Rt</th>\n",
       "      <th>theta</th>\n",
       "      <th>kappa</th>\n",
       "      <th>rho</th>\n",
       "      <th>sigma</th>\n",
       "      <th>tau</th>\n",
       "      <th>alpha1 [-]</th>\n",
       "      <th>1/alpha2 [day]</th>\n",
       "      <th>1/beta [day]</th>\n",
       "      <th>1/gamma [day]</th>\n",
       "    </tr>\n",
       "  </thead>\n",
       "  <tbody>\n",
       "    <tr>\n",
       "      <th>0th</th>\n",
       "      <td>Past</td>\n",
       "      <td>01Sep2020</td>\n",
       "      <td>01Dec2020</td>\n",
       "      <td>8513227</td>\n",
       "      <td>SIR-F</td>\n",
       "      <td>1.81</td>\n",
       "      <td>0.005</td>\n",
       "      <td>0.005</td>\n",
       "      <td>0.1</td>\n",
       "      <td>0.05</td>\n",
       "      <td>1440</td>\n",
       "      <td>0.005</td>\n",
       "      <td>200.0</td>\n",
       "      <td>10.0</td>\n",
       "      <td>20.0</td>\n",
       "    </tr>\n",
       "  </tbody>\n",
       "</table>\n",
       "</div>"
      ],
      "text/plain": [
       "     Type      Start        End  Population    ODE    Rt  theta  kappa  rho  \\\n",
       "0th  Past  01Sep2020  01Dec2020     8513227  SIR-F  1.81  0.005  0.005  0.1   \n",
       "\n",
       "     sigma   tau  alpha1 [-]  1/alpha2 [day]  1/beta [day]  1/gamma [day]  \n",
       "0th   0.05  1440       0.005           200.0          10.0           20.0  "
      ]
     },
     "execution_count": 16,
     "metadata": {},
     "output_type": "execute_result"
    }
   ],
   "source": [
    "# Set 0th phase fro eg from 01Sep2020 to 01Dec2020 with preset parameter values\n",
    "\n",
    "snl.clear(include_past=True)\n",
    "snl.add(end_date=\"01Dec2020\", model=cs.SIRF, **preset_dict)\n",
    "# Show summary\n",
    "snl.summary()"
   ]
  },
  {
   "cell_type": "code",
   "execution_count": 17,
   "id": "aef13327",
   "metadata": {},
   "outputs": [
    {
     "data": {
      "text/html": [
       "<div>\n",
       "<style scoped>\n",
       "    .dataframe tbody tr th:only-of-type {\n",
       "        vertical-align: middle;\n",
       "    }\n",
       "\n",
       "    .dataframe tbody tr th {\n",
       "        vertical-align: top;\n",
       "    }\n",
       "\n",
       "    .dataframe thead th {\n",
       "        text-align: right;\n",
       "    }\n",
       "</style>\n",
       "<table border=\"1\" class=\"dataframe\">\n",
       "  <thead>\n",
       "    <tr style=\"text-align: right;\">\n",
       "      <th></th>\n",
       "      <th>Type</th>\n",
       "      <th>Start</th>\n",
       "      <th>End</th>\n",
       "      <th>Population</th>\n",
       "      <th>ODE</th>\n",
       "      <th>Rt</th>\n",
       "      <th>theta</th>\n",
       "      <th>kappa</th>\n",
       "      <th>rho</th>\n",
       "      <th>sigma</th>\n",
       "      <th>tau</th>\n",
       "      <th>alpha1 [-]</th>\n",
       "      <th>1/alpha2 [day]</th>\n",
       "      <th>1/beta [day]</th>\n",
       "      <th>1/gamma [day]</th>\n",
       "    </tr>\n",
       "  </thead>\n",
       "  <tbody>\n",
       "    <tr>\n",
       "      <th>0th</th>\n",
       "      <td>Past</td>\n",
       "      <td>01Sep2020</td>\n",
       "      <td>01Dec2020</td>\n",
       "      <td>8513227</td>\n",
       "      <td>SIR-F</td>\n",
       "      <td>1.81</td>\n",
       "      <td>0.005</td>\n",
       "      <td>0.005</td>\n",
       "      <td>0.1</td>\n",
       "      <td>0.05</td>\n",
       "      <td>1440</td>\n",
       "      <td>0.005</td>\n",
       "      <td>200.0</td>\n",
       "      <td>10.0</td>\n",
       "      <td>20.0</td>\n",
       "    </tr>\n",
       "    <tr>\n",
       "      <th>1st</th>\n",
       "      <td>Future</td>\n",
       "      <td>02Dec2020</td>\n",
       "      <td>31Dec2021</td>\n",
       "      <td>8513227</td>\n",
       "      <td>SIR-F</td>\n",
       "      <td>1.81</td>\n",
       "      <td>0.005</td>\n",
       "      <td>0.005</td>\n",
       "      <td>0.1</td>\n",
       "      <td>0.05</td>\n",
       "      <td>1440</td>\n",
       "      <td>0.005</td>\n",
       "      <td>200.0</td>\n",
       "      <td>10.0</td>\n",
       "      <td>20.0</td>\n",
       "    </tr>\n",
       "  </tbody>\n",
       "</table>\n",
       "</div>"
      ],
      "text/plain": [
       "       Type      Start        End  Population    ODE    Rt  theta  kappa  rho  \\\n",
       "0th    Past  01Sep2020  01Dec2020     8513227  SIR-F  1.81  0.005  0.005  0.1   \n",
       "1st  Future  02Dec2020  31Dec2021     8513227  SIR-F  1.81  0.005  0.005  0.1   \n",
       "\n",
       "     sigma   tau  alpha1 [-]  1/alpha2 [day]  1/beta [day]  1/gamma [day]  \n",
       "0th   0.05  1440       0.005           200.0          10.0           20.0  \n",
       "1st   0.05  1440       0.005           200.0          10.0           20.0  "
      ]
     },
     "execution_count": 17,
     "metadata": {},
     "output_type": "execute_result"
    }
   ],
   "source": [
    "# Add main scenario\n",
    "snl.add(end_date=\"31Dec2021\", name=\"Main\")\n",
    "snl.summary()"
   ]
  },
  {
   "cell_type": "code",
   "execution_count": 18,
   "id": "072ed04b",
   "metadata": {},
   "outputs": [
    {
     "data": {
      "text/plain": [
       "<covsirphy.analysis.scenario.Scenario at 0x22a39918f40>"
      ]
     },
     "execution_count": 18,
     "metadata": {},
     "output_type": "execute_result"
    }
   ],
   "source": [
    "# Add lockdown scenario\n",
    "snl.clear(name=\"Lockdown\")\n",
    "# Get rho value of the 0th phase and halve it\n",
    "rho_lock = snl.get(\"rho\", phase=\"0th\") * 0.5\n",
    "# Add th 1st phase with the calculated rho value\n",
    "snl.add(end_date=\"31Dec2021\", name=\"Lockdown\", rho=rho_lock)"
   ]
  },
  {
   "cell_type": "code",
   "execution_count": 19,
   "id": "fe146ed4",
   "metadata": {},
   "outputs": [
    {
     "data": {
      "text/plain": [
       "<covsirphy.analysis.scenario.Scenario at 0x22a39918f40>"
      ]
     },
     "execution_count": 19,
     "metadata": {},
     "output_type": "execute_result"
    }
   ],
   "source": [
    "# Add medicine scenario\n",
    "snl.clear(name=\"Medicine\")\n",
    "kappa_med = snl.get(\"kappa\", phase=\"0th\") * 0.5\n",
    "sigma_med = snl.get(\"sigma\", phase=\"0th\") * 2\n",
    "snl.add(end_date=\"31Dec2021\", name=\"Medicine\", kappa=kappa_med, sigma=sigma_med)"
   ]
  },
  {
   "cell_type": "code",
   "execution_count": 20,
   "id": "2dc3acb9",
   "metadata": {},
   "outputs": [
    {
     "data": {
      "text/plain": [
       "<covsirphy.analysis.scenario.Scenario at 0x22a39918f40>"
      ]
     },
     "execution_count": 20,
     "metadata": {},
     "output_type": "execute_result"
    }
   ],
   "source": [
    "# Add vaccine scenario\n",
    "snl.clear(name=\"Vaccine\")\n",
    "rho_vac = snl.get(\"rho\", phase=\"0th\") * 0.8\n",
    "kappa_vac = snl.get(\"kappa\", phase=\"0th\") * 0.6\n",
    "sigma_vac = snl.get(\"sigma\", phase=\"0th\") * 1.2\n",
    "snl.add(end_date=\"31Dec2021\", name=\"Vaccine\",  rho=rho_vac, kappa=kappa_vac, sigma=sigma_vac)"
   ]
  },
  {
   "cell_type": "code",
   "execution_count": 23,
   "id": "14bf1129",
   "metadata": {},
   "outputs": [
    {
     "data": {
      "image/png": "[encoded data removed]",
      "text/plain": [
       "<Figure size 648x432 with 1 Axes>"
      ]
     },
     "metadata": {
      "needs_background": "light"
     },
     "output_type": "display_data"
    },
    {
     "data": {
      "text/html": [
       "<div>\n",
       "<style scoped>\n",
       "    .dataframe tbody tr th:only-of-type {\n",
       "        vertical-align: middle;\n",
       "    }\n",
       "\n",
       "    .dataframe tbody tr th {\n",
       "        vertical-align: top;\n",
       "    }\n",
       "\n",
       "    .dataframe thead th {\n",
       "        text-align: right;\n",
       "    }\n",
       "</style>\n",
       "<table border=\"1\" class=\"dataframe\">\n",
       "  <thead>\n",
       "    <tr style=\"text-align: right;\">\n",
       "      <th>Scenario</th>\n",
       "      <th>Lockdown</th>\n",
       "      <th>Main</th>\n",
       "      <th>Medicine</th>\n",
       "      <th>Vaccine</th>\n",
       "    </tr>\n",
       "    <tr>\n",
       "      <th>Date</th>\n",
       "      <th></th>\n",
       "      <th></th>\n",
       "      <th></th>\n",
       "      <th></th>\n",
       "    </tr>\n",
       "  </thead>\n",
       "  <tbody>\n",
       "    <tr>\n",
       "      <th>2020-09-01</th>\n",
       "      <td>0.1</td>\n",
       "      <td>0.1</td>\n",
       "      <td>0.1</td>\n",
       "      <td>0.1</td>\n",
       "    </tr>\n",
       "    <tr>\n",
       "      <th>2020-09-02</th>\n",
       "      <td>0.1</td>\n",
       "      <td>0.1</td>\n",
       "      <td>0.1</td>\n",
       "      <td>0.1</td>\n",
       "    </tr>\n",
       "    <tr>\n",
       "      <th>2020-09-03</th>\n",
       "      <td>0.1</td>\n",
       "      <td>0.1</td>\n",
       "      <td>0.1</td>\n",
       "      <td>0.1</td>\n",
       "    </tr>\n",
       "    <tr>\n",
       "      <th>2020-09-04</th>\n",
       "      <td>0.1</td>\n",
       "      <td>0.1</td>\n",
       "      <td>0.1</td>\n",
       "      <td>0.1</td>\n",
       "    </tr>\n",
       "    <tr>\n",
       "      <th>2020-09-05</th>\n",
       "      <td>0.1</td>\n",
       "      <td>0.1</td>\n",
       "      <td>0.1</td>\n",
       "      <td>0.1</td>\n",
       "    </tr>\n",
       "  </tbody>\n",
       "</table>\n",
       "</div>"
      ],
      "text/plain": [
       "Scenario    Lockdown  Main  Medicine  Vaccine\n",
       "Date                                         \n",
       "2020-09-01       0.1   0.1       0.1      0.1\n",
       "2020-09-02       0.1   0.1       0.1      0.1\n",
       "2020-09-03       0.1   0.1       0.1      0.1\n",
       "2020-09-04       0.1   0.1       0.1      0.1\n",
       "2020-09-05       0.1   0.1       0.1      0.1"
      ]
     },
     "execution_count": 23,
     "metadata": {},
     "output_type": "execute_result"
    }
   ],
   "source": [
    "# Show the history of rho as a dataframe and a figure\n",
    "# we can set theta/kappa/rho/sigma for SIR model\n",
    "snl.history(target=\"rho\").head()\n",
    "# snl.history(target=\"rho\").tail()"
   ]
  },
  {
   "cell_type": "code",
   "execution_count": 24,
   "id": "ba98b740",
   "metadata": {},
   "outputs": [
    {
     "data": {
      "image/png": "[encoded data removed]",
      "text/plain": [
       "<Figure size 648x432 with 1 Axes>"
      ]
     },
     "metadata": {
      "needs_background": "light"
     },
     "output_type": "display_data"
    }
   ],
   "source": [
    "# Show the history of reproduction number\n",
    "_ = snl.history(target=\"Rt\")"
   ]
  },
  {
   "cell_type": "code",
   "execution_count": 25,
   "id": "e5780daf",
   "metadata": {},
   "outputs": [
    {
     "data": {
      "image/png": "[encoded data removed]",
      "text/plain": [
       "<Figure size 648x432 with 1 Axes>"
      ]
     },
     "metadata": {
      "needs_background": "light"
     },
     "output_type": "display_data"
    }
   ],
   "source": [
    "# The number of infected cases\n",
    "_ = snl.history(target=\"Infected\") #'Fatal', ...."
   ]
  },
  {
   "cell_type": "markdown",
   "id": "f9c2d746",
   "metadata": {},
   "source": [
    "### Simulating scenarios"
   ]
  },
  {
   "cell_type": "code",
   "execution_count": 26,
   "id": "e7e553d4",
   "metadata": {},
   "outputs": [
    {
     "data": {
      "image/png": "[encoded data removed]",
      "text/plain": [
       "<Figure size 648x432 with 1 Axes>"
      ]
     },
     "metadata": {
      "needs_background": "light"
     },
     "output_type": "display_data"
    }
   ],
   "source": [
    "_ = snl.simulate(name = 'Lockdown')"
   ]
  },
  {
   "cell_type": "code",
   "execution_count": 27,
   "id": "0b6601b0",
   "metadata": {},
   "outputs": [
    {
     "data": {
      "image/png": "[encoded data removed]",
      "text/plain": [
       "<Figure size 648x432 with 1 Axes>"
      ]
     },
     "metadata": {
      "needs_background": "light"
     },
     "output_type": "display_data"
    }
   ],
   "source": [
    "_ = snl.simulate(name = 'Vaccine')"
   ]
  },
  {
   "cell_type": "code",
   "execution_count": null,
   "id": "b2aef125",
   "metadata": {},
   "outputs": [],
   "source": []
  }
 ],
 "metadata": {
  "kernelspec": {
   "display_name": "Python 3 (Spyder)",
   "language": "python3",
   "name": "python3"
  },
  "language_info": {
   "codemirror_mode": {
    "name": "ipython",
    "version": 3
   },
   "file_extension": ".py",
   "mimetype": "text/x-python",
   "name": "python",
   "nbconvert_exporter": "python",
   "pygments_lexer": "ipython3",
   "version": "3.8.13"
  }
 },
 "nbformat": 4,
 "nbformat_minor": 5
}
