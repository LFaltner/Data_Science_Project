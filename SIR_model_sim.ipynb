{
 "cells": [
  {
   "cell_type": "code",
   "execution_count": 1,
   "id": "54c2b9c5",
   "metadata": {},
   "outputs": [
    {
     "name": "stderr",
     "output_type": "stream",
     "text": [
      "PROJ: proj_create_from_database: Cannot find proj.db\n"
     ]
    }
   ],
   "source": [
    "from models.SIR_model import SIR_model"
   ]
  },
  {
   "cell_type": "code",
   "execution_count": null,
   "id": "cb83602b",
   "metadata": {},
   "outputs": [
    {
     "name": "stdout",
     "output_type": "stream",
     "text": [
      "Checking if data is up-to-date... \n",
      "Retrieving COVID-19 dataset in Japan from https://github.com/lisphilar/covid19-sir/data/japan\n",
      "Retrieving datasets from COVID-19 Data Hub https://covid19datahub.io/\n",
      "\tPlease set verbose=2 to see the detailed citation list.\n",
      "Retrieving datasets from Our World In Data https://github.com/owid/covid-19-data/\n"
     ]
    }
   ],
   "source": [
    "start_date = '2020-09-01'\n",
    "end_date = '2021-03-01'\n",
    "country = \"Switzerland\"\n",
    "a = SIR_model(country,start_date,end_date)"
   ]
  },
  {
   "cell_type": "code",
   "execution_count": null,
   "id": "a2d276b6",
   "metadata": {},
   "outputs": [],
   "source": [
    "a.create_sir()"
   ]
  },
  {
   "cell_type": "code",
   "execution_count": null,
   "id": "2a7c5e7c",
   "metadata": {},
   "outputs": [],
   "source": [
    "a.create_main()"
   ]
  },
  {
   "cell_type": "code",
   "execution_count": null,
   "id": "0a97caeb",
   "metadata": {},
   "outputs": [],
   "source": [
    "a.create_scenario(name=\"Lockdown\",\n",
    "                  scenario_end_list=[\"31Mar2021\",\"20Apr2021\",\"30Apr2021\"],\n",
    "                  rho_constant_list=[0.5,2,0.5],\n",
    "                  sigma_constant_list=[2,0.5,1],\n",
    "                  plot=True)\n"
   ]
  },
  {
   "cell_type": "code",
   "execution_count": null,
   "id": "b5c85414",
   "metadata": {},
   "outputs": [],
   "source": [
    "a.create_scenario(name=\"Masks\",\n",
    "                  scenario_end_list=[\"31Mar2021\",\"20Apr2021\",\"30Apr2021\"],\n",
    "                  rho_constant_list=[0.3,1.5,0.5],\n",
    "                  sigma_constant_list=[2,0.5,1],\n",
    "                  plot=True)\n"
   ]
  },
  {
   "cell_type": "code",
   "execution_count": null,
   "id": "f43a3415",
   "metadata": {},
   "outputs": [],
   "source": []
  }
 ],
 "metadata": {
  "kernelspec": {
   "display_name": "Python 3 (Spyder)",
   "language": "python3",
   "name": "python3"
  },
  "language_info": {
   "codemirror_mode": {
    "name": "ipython",
    "version": 3
   },
   "file_extension": ".py",
   "mimetype": "text/x-python",
   "name": "python",
   "nbconvert_exporter": "python",
   "pygments_lexer": "ipython3",
   "version": "3.8.13"
  }
 },
 "nbformat": 4,
 "nbformat_minor": 5
}
