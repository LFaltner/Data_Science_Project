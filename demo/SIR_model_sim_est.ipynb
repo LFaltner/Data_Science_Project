{
 "cells": [
  {
   "cell_type": "code",
   "execution_count": null,
   "id": "b1e326c6",
   "metadata": {},
   "outputs": [],
   "source": [
    "from models.SIR_model import SIR_model"
   ]
  },
  {
   "cell_type": "code",
   "execution_count": null,
   "id": "4a0ae0b4",
   "metadata": {},
   "outputs": [],
   "source": [
    "start_date = '2020-09-01'\n",
    "end_date = '2021-03-01'\n",
    "country = \"Switzerland\"\n",
    "a = SIR_model(country,start_date,end_date)"
   ]
  },
  {
   "cell_type": "code",
   "execution_count": null,
   "id": "c5ec1ab8",
   "metadata": {},
   "outputs": [],
   "source": [
    "a.create_sir()"
   ]
  },
  {
   "cell_type": "code",
   "execution_count": null,
   "id": "9d30491c",
   "metadata": {},
   "outputs": [],
   "source": [
    "a.create_main()"
   ]
  },
  {
   "cell_type": "code",
   "execution_count": null,
   "id": "42aab731",
   "metadata": {},
   "outputs": [],
   "source": [
    "# estimate rho and sigma\n",
    "a.create_scenario(name=\"Lockdown\",\n",
    "                  scenario_end_list=[\"31Mar2021\",\"20Apr2021\",\"30Apr2021\"],\n",
    "                  rho_constant_list=[0.5,2,0.5],\n",
    "                  sigma_constant_list=[2,0.5,1],\n",
    "                  plot=True)\n"
   ]
  },
  {
   "cell_type": "code",
   "execution_count": null,
   "id": "d7024c43",
   "metadata": {},
   "outputs": [],
   "source": [
    "a.create_scenario(name=\"Masks\",\n",
    "                  scenario_end_list=[\"31Mar2021\",\"20Apr2021\",\"30Apr2021\"],\n",
    "                  rho_constant_list=[0.3,1.5,0.5],\n",
    "                  sigma_constant_list=[2,0.5,1],\n",
    "                  plot=True)"
   ]
  }
 ],
 "metadata": {
  "kernelspec": {
   "display_name": "Python 3 (Spyder)",
   "language": "python3",
   "name": "python3"
  },
  "language_info": {
   "codemirror_mode": {
    "name": "ipython",
    "version": 3
   },
   "file_extension": ".py",
   "mimetype": "text/x-python",
   "name": "python",
   "nbconvert_exporter": "python",
   "pygments_lexer": "ipython3",
   "version": "3.8.13"
  }
 },
 "nbformat": 4,
 "nbformat_minor": 5
}
