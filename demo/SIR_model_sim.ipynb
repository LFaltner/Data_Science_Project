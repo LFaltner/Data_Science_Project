{
 "cells": [
  {
   "cell_type": "code",
   "execution_count": 6,
   "id": "3e2f4928",
   "metadata": {},
   "outputs": [
    {
     "name": "stderr",
     "output_type": "stream",
     "text": [
      "PROJ: proj_create_from_database: Cannot find proj.db\n"
     ]
    }
   ],
   "source": [
    "import sys\n",
    "  \n",
    "# adding models to the system path\n",
    "sys.path.insert(0, '../models/')\n",
    "from SIR_model import SIR_model"
   ]
  },
  {
   "cell_type": "code",
   "execution_count": 7,
   "id": "66a3e310",
   "metadata": {},
   "outputs": [
    {
     "name": "stdout",
     "output_type": "stream",
     "text": [
      "Checking if data is up-to-date... \n"
     ]
    },
    {
     "data": {
      "image/png": "[encoded data removed]",
      "text/plain": [
       "<Figure size 648x432 with 1 Axes>"
      ]
     },
     "metadata": {},
     "output_type": "display_data"
    }
   ],
   "source": [
    "start_date = '2020-09-01'\n",
    "end_date = '2021-03-01'\n",
    "country = \"Switzerland\"\n",
    "a = SIR_model(country,start_date,end_date)"
   ]
  },
  {
   "cell_type": "code",
   "execution_count": 8,
   "id": "75f3a9ef",
   "metadata": {},
   "outputs": [
    {
     "name": "stdout",
     "output_type": "stream",
     "text": [
      "No values for rho and sigma given. Estimation of both parameters, this may take a while...\n",
      "\n",
      "<SIR model: parameter estimation>\n",
      "Running optimization with 8 CPUs...\n",
      "Completed optimization. Total: 0 min 34 sec\n",
      "Estimations: Rho = 0.0838, Sigma = 0.0397\n",
      "\n",
      "\n",
      "created SIR-model with:\n",
      "params:\n",
      "\t{'rho': 0.0838, 'sigma': 0.0397}\n",
      "starting conditions:\n",
      "\t{'Fatal or Recovered': 38072, 'Infected': 4888, 'Susceptible': 8470267}\n",
      "simulating: 181 days\n"
     ]
    },
    {
     "data": {
      "text/html": [
       "<div>\n",
       "<style scoped>\n",
       "    .dataframe tbody tr th:only-of-type {\n",
       "        vertical-align: middle;\n",
       "    }\n",
       "\n",
       "    .dataframe tbody tr th {\n",
       "        vertical-align: top;\n",
       "    }\n",
       "\n",
       "    .dataframe thead th {\n",
       "        text-align: right;\n",
       "    }\n",
       "</style>\n",
       "<table border=\"1\" class=\"dataframe\">\n",
       "  <thead>\n",
       "    <tr style=\"text-align: right;\">\n",
       "      <th></th>\n",
       "      <th>Date</th>\n",
       "      <th>Infected</th>\n",
       "      <th>Fatal</th>\n",
       "      <th>Recovered</th>\n",
       "      <th>actual Infected</th>\n",
       "    </tr>\n",
       "  </thead>\n",
       "  <tbody>\n",
       "    <tr>\n",
       "      <th>0</th>\n",
       "      <td>2020-09-01 00:00:00</td>\n",
       "      <td>4888</td>\n",
       "      <td>0</td>\n",
       "      <td>38072</td>\n",
       "      <td>4888</td>\n",
       "    </tr>\n",
       "    <tr>\n",
       "      <th>1</th>\n",
       "      <td>2020-09-02 00:00:00</td>\n",
       "      <td>5106</td>\n",
       "      <td>0</td>\n",
       "      <td>38270</td>\n",
       "      <td>5102</td>\n",
       "    </tr>\n",
       "    <tr>\n",
       "      <th>2</th>\n",
       "      <td>2020-09-03 00:00:00</td>\n",
       "      <td>5334</td>\n",
       "      <td>0</td>\n",
       "      <td>38478</td>\n",
       "      <td>5539</td>\n",
       "    </tr>\n",
       "    <tr>\n",
       "      <th>3</th>\n",
       "      <td>2020-09-04 00:00:00</td>\n",
       "      <td>5572</td>\n",
       "      <td>0</td>\n",
       "      <td>38694</td>\n",
       "      <td>5964</td>\n",
       "    </tr>\n",
       "    <tr>\n",
       "      <th>4</th>\n",
       "      <td>2020-09-05 00:00:00</td>\n",
       "      <td>5821</td>\n",
       "      <td>0</td>\n",
       "      <td>38920</td>\n",
       "      <td>5657</td>\n",
       "    </tr>\n",
       "    <tr>\n",
       "      <th>...</th>\n",
       "      <td>...</td>\n",
       "      <td>...</td>\n",
       "      <td>...</td>\n",
       "      <td>...</td>\n",
       "      <td>...</td>\n",
       "    </tr>\n",
       "    <tr>\n",
       "      <th>177</th>\n",
       "      <td>2021-02-25 00:00:00</td>\n",
       "      <td>1430693</td>\n",
       "      <td>0</td>\n",
       "      <td>3415946</td>\n",
       "      <td>225659</td>\n",
       "    </tr>\n",
       "    <tr>\n",
       "      <th>178</th>\n",
       "      <td>2021-02-26 00:00:00</td>\n",
       "      <td>1425181</td>\n",
       "      <td>0</td>\n",
       "      <td>3472637</td>\n",
       "      <td>226730</td>\n",
       "    </tr>\n",
       "    <tr>\n",
       "      <th>179</th>\n",
       "      <td>2021-02-27 00:00:00</td>\n",
       "      <td>1418981</td>\n",
       "      <td>0</td>\n",
       "      <td>3529096</td>\n",
       "      <td>227443</td>\n",
       "    </tr>\n",
       "    <tr>\n",
       "      <th>180</th>\n",
       "      <td>2021-02-28 00:00:00</td>\n",
       "      <td>1412115</td>\n",
       "      <td>0</td>\n",
       "      <td>3585295</td>\n",
       "      <td>227983</td>\n",
       "    </tr>\n",
       "    <tr>\n",
       "      <th>181</th>\n",
       "      <td>2021-03-01 00:00:00</td>\n",
       "      <td>1404607</td>\n",
       "      <td>0</td>\n",
       "      <td>3641209</td>\n",
       "      <td>229394</td>\n",
       "    </tr>\n",
       "  </tbody>\n",
       "</table>\n",
       "<p>182 rows × 5 columns</p>\n",
       "</div>"
      ],
      "text/plain": [
       "                    Date  Infected  Fatal  Recovered  actual Infected\n",
       "0    2020-09-01 00:00:00      4888      0      38072             4888\n",
       "1    2020-09-02 00:00:00      5106      0      38270             5102\n",
       "2    2020-09-03 00:00:00      5334      0      38478             5539\n",
       "3    2020-09-04 00:00:00      5572      0      38694             5964\n",
       "4    2020-09-05 00:00:00      5821      0      38920             5657\n",
       "..                   ...       ...    ...        ...              ...\n",
       "177  2021-02-25 00:00:00   1430693      0    3415946           225659\n",
       "178  2021-02-26 00:00:00   1425181      0    3472637           226730\n",
       "179  2021-02-27 00:00:00   1418981      0    3529096           227443\n",
       "180  2021-02-28 00:00:00   1412115      0    3585295           227983\n",
       "181  2021-03-01 00:00:00   1404607      0    3641209           229394\n",
       "\n",
       "[182 rows x 5 columns]"
      ]
     },
     "execution_count": 8,
     "metadata": {},
     "output_type": "execute_result"
    }
   ],
   "source": [
    "a.create_sir()"
   ]
  },
  {
   "cell_type": "code",
   "execution_count": 9,
   "id": "e71cb1b4",
   "metadata": {},
   "outputs": [
    {
     "ename": "SyntaxError",
     "evalue": "invalid syntax (2905550544.py, line 1)",
     "output_type": "error",
     "traceback": [
      "\u001b[1;36m  Input \u001b[1;32mIn [9]\u001b[1;36m\u001b[0m\n\u001b[1;33m    a.create_main(params={\"rho:0.08\",\"sigma\":0.05})\u001b[0m\n\u001b[1;37m                                            ^\u001b[0m\n\u001b[1;31mSyntaxError\u001b[0m\u001b[1;31m:\u001b[0m invalid syntax\n"
     ]
    }
   ],
   "source": [
    "a.create_main(params={\"rho:0.08\",\"sigma\":0.05})"
   ]
  },
  {
   "cell_type": "code",
   "execution_count": null,
   "id": "e3288d95",
   "metadata": {},
   "outputs": [],
   "source": [
    "a.create_scenario(name=\"Lockdown\",\n",
    "                  scenario_end_list=[\"31Mar2021\",\"20Apr2021\",\"30Apr2021\"],\n",
    "                  rho_constant_list=[0.5,2,0.5],\n",
    "                  sigma_constant_list=[2,0.5,1],\n",
    "                  plot=True)\n"
   ]
  },
  {
   "cell_type": "code",
   "execution_count": null,
   "id": "f085a198",
   "metadata": {},
   "outputs": [],
   "source": [
    "a.create_scenario(name=\"Masks\",\n",
    "                  scenario_end_list=[\"31Mar2021\",\"20Apr2021\",\"30Apr2021\"],\n",
    "                  rho_constant_list=[0.3,1.5,0.5],\n",
    "                  sigma_constant_list=[2,0.5,1],\n",
    "                  plot=True)\n"
   ]
  },
  {
   "cell_type": "code",
   "execution_count": null,
   "id": "06961c6a",
   "metadata": {},
   "outputs": [],
   "source": []
  }
 ],
 "metadata": {
  "kernelspec": {
   "display_name": "Python 3 (Spyder)",
   "language": "python3",
   "name": "python3"
  },
  "language_info": {
   "codemirror_mode": {
    "name": "ipython",
    "version": 3
   },
   "file_extension": ".py",
   "mimetype": "text/x-python",
   "name": "python",
   "nbconvert_exporter": "python",
   "pygments_lexer": "ipython3",
   "version": "3.8.13"
  }
 },
 "nbformat": 4,
 "nbformat_minor": 5
}
