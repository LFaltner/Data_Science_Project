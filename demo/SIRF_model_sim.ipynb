{
 "cells": [
  {
   "cell_type": "code",
   "execution_count": 24,
   "id": "38c42dd8",
   "metadata": {},
   "outputs": [],
   "source": [
    "import sys\n",
    "  \n",
    "# adding models to the system path\n",
    "sys.path.insert(0, '../models/')\n",
    "from SIRF_model import SIRF_model"
   ]
  },
  {
   "cell_type": "code",
   "execution_count": 25,
   "id": "a962da8e",
   "metadata": {},
   "outputs": [
    {
     "name": "stdout",
     "output_type": "stream",
     "text": [
      "Checking if data is up-to-date... \n",
      "Loading the data...\n"
     ]
    }
   ],
   "source": [
    "start_date = '2020-09-01'\n",
    "end_date = '2020-11-06'\n",
    "country = \"Switzerland\"\n",
    "a = SIRF_model(country,start_date,end_date)"
   ]
  },
  {
   "cell_type": "code",
   "execution_count": 29,
   "id": "582448a6",
   "metadata": {},
   "outputs": [
    {
     "name": "stdout",
     "output_type": "stream",
     "text": [
      "created SIR-F-model with:\n",
      "params:\n",
      "\t{'rho': 0.2, 'sigma': 0.05, 'kappa': 0.1, 'theta': 0.05}\n",
      "starting conditions:\n",
      "\t{'Recovered': 36300, 'Infected': 4887, 'Susceptible': 8470268, 'Fatal': 1772}\n",
      "simulating: 66 days\n"
     ]
    },
    {
     "data": {
      "text/html": [
       "<div>\n",
       "<style scoped>\n",
       "    .dataframe tbody tr th:only-of-type {\n",
       "        vertical-align: middle;\n",
       "    }\n",
       "\n",
       "    .dataframe tbody tr th {\n",
       "        vertical-align: top;\n",
       "    }\n",
       "\n",
       "    .dataframe thead th {\n",
       "        text-align: right;\n",
       "    }\n",
       "</style>\n",
       "<table border=\"1\" class=\"dataframe\">\n",
       "  <thead>\n",
       "    <tr style=\"text-align: right;\">\n",
       "      <th></th>\n",
       "      <th>Date</th>\n",
       "      <th>Infected</th>\n",
       "      <th>Fatal</th>\n",
       "      <th>Recovered</th>\n",
       "      <th>actual Infected</th>\n",
       "    </tr>\n",
       "  </thead>\n",
       "  <tbody>\n",
       "    <tr>\n",
       "      <th>0</th>\n",
       "      <td>2020-09-01 00:00:00</td>\n",
       "      <td>4887</td>\n",
       "      <td>1772</td>\n",
       "      <td>36300</td>\n",
       "      <td>4887</td>\n",
       "    </tr>\n",
       "    <tr>\n",
       "      <th>1</th>\n",
       "      <td>2020-09-02 00:00:00</td>\n",
       "      <td>5082</td>\n",
       "      <td>2320</td>\n",
       "      <td>36549</td>\n",
       "      <td>5101</td>\n",
       "    </tr>\n",
       "    <tr>\n",
       "      <th>2</th>\n",
       "      <td>2020-09-03 00:00:00</td>\n",
       "      <td>5284</td>\n",
       "      <td>2890</td>\n",
       "      <td>36808</td>\n",
       "      <td>5538</td>\n",
       "    </tr>\n",
       "    <tr>\n",
       "      <th>3</th>\n",
       "      <td>2020-09-04 00:00:00</td>\n",
       "      <td>5494</td>\n",
       "      <td>3482</td>\n",
       "      <td>37078</td>\n",
       "      <td>5963</td>\n",
       "    </tr>\n",
       "    <tr>\n",
       "      <th>4</th>\n",
       "      <td>2020-09-05 00:00:00</td>\n",
       "      <td>5712</td>\n",
       "      <td>4098</td>\n",
       "      <td>37358</td>\n",
       "      <td>5656</td>\n",
       "    </tr>\n",
       "    <tr>\n",
       "      <th>...</th>\n",
       "      <td>...</td>\n",
       "      <td>...</td>\n",
       "      <td>...</td>\n",
       "      <td>...</td>\n",
       "      <td>...</td>\n",
       "    </tr>\n",
       "    <tr>\n",
       "      <th>62</th>\n",
       "      <td>2020-11-02 00:00:00</td>\n",
       "      <td>49363</td>\n",
       "      <td>136115</td>\n",
       "      <td>97472</td>\n",
       "      <td>107565</td>\n",
       "    </tr>\n",
       "    <tr>\n",
       "      <th>63</th>\n",
       "      <td>2020-11-03 00:00:00</td>\n",
       "      <td>51048</td>\n",
       "      <td>141620</td>\n",
       "      <td>99982</td>\n",
       "      <td>114082</td>\n",
       "    </tr>\n",
       "    <tr>\n",
       "      <th>64</th>\n",
       "      <td>2020-11-04 00:00:00</td>\n",
       "      <td>52780</td>\n",
       "      <td>147311</td>\n",
       "      <td>102577</td>\n",
       "      <td>119011</td>\n",
       "    </tr>\n",
       "    <tr>\n",
       "      <th>65</th>\n",
       "      <td>2020-11-05 00:00:00</td>\n",
       "      <td>54558</td>\n",
       "      <td>153195</td>\n",
       "      <td>105260</td>\n",
       "      <td>126757</td>\n",
       "    </tr>\n",
       "    <tr>\n",
       "      <th>66</th>\n",
       "      <td>2020-11-06 00:00:00</td>\n",
       "      <td>56382</td>\n",
       "      <td>159275</td>\n",
       "      <td>108033</td>\n",
       "      <td>133840</td>\n",
       "    </tr>\n",
       "  </tbody>\n",
       "</table>\n",
       "<p>67 rows × 5 columns</p>\n",
       "</div>"
      ],
      "text/plain": [
       "                   Date  Infected   Fatal  Recovered  actual Infected\n",
       "0   2020-09-01 00:00:00      4887    1772      36300             4887\n",
       "1   2020-09-02 00:00:00      5082    2320      36549             5101\n",
       "2   2020-09-03 00:00:00      5284    2890      36808             5538\n",
       "3   2020-09-04 00:00:00      5494    3482      37078             5963\n",
       "4   2020-09-05 00:00:00      5712    4098      37358             5656\n",
       "..                  ...       ...     ...        ...              ...\n",
       "62  2020-11-02 00:00:00     49363  136115      97472           107565\n",
       "63  2020-11-03 00:00:00     51048  141620      99982           114082\n",
       "64  2020-11-04 00:00:00     52780  147311     102577           119011\n",
       "65  2020-11-05 00:00:00     54558  153195     105260           126757\n",
       "66  2020-11-06 00:00:00     56382  159275     108033           133840\n",
       "\n",
       "[67 rows x 5 columns]"
      ]
     },
     "execution_count": 29,
     "metadata": {},
     "output_type": "execute_result"
    }
   ],
   "source": [
    "# estimate rho and sigma\n",
    "a.create_sirf({\"rho\":0.2,\"sigma\":0.05,\"kappa\":0.1,\"theta\":0.05})"
   ]
  },
  {
   "cell_type": "code",
   "execution_count": 30,
   "id": "1eb58705",
   "metadata": {},
   "outputs": [],
   "source": [
    "a.create_main()"
   ]
  },
  {
   "cell_type": "code",
   "execution_count": 31,
   "id": "e3bf6d1e",
   "metadata": {},
   "outputs": [
    {
     "name": "stdout",
     "output_type": "stream",
     "text": [
      "                  Type      Start  ... 1/beta [day]  1/gamma [day]\n",
      "Scenario Phase                     ...                            \n",
      "Main     0th      Past  01Sep2020  ...          5.0           20.0\n",
      "         1st    Future  07Nov2020  ...          5.0           20.0\n",
      "Lockdown 0th      Past  01Sep2020  ...          5.0           20.0\n",
      "         1st    Future  07Nov2020  ...         10.0           20.0\n",
      "\n",
      "[4 rows x 15 columns]\n"
     ]
    },
    {
     "data": {
      "text/plain": [
       "(Scenario    Actual  Lockdown     Main\n",
       " Date                                 \n",
       " 2020-09-01    4887    4887.0   4887.0\n",
       " 2020-09-02    5101    5082.0   5082.0\n",
       " 2020-09-03    5338    5284.0   5284.0\n",
       " 2020-09-04    5563    5494.0   5494.0\n",
       " 2020-09-05    5656    5712.0   5712.0\n",
       " ...            ...       ...      ...\n",
       " 2021-03-27   23523      13.0  44870.0\n",
       " 2021-03-28   23599      12.0  43556.0\n",
       " 2021-03-29   25432      11.0  42275.0\n",
       " 2021-03-30   25599      11.0  41026.0\n",
       " 2021-03-31   26074      10.0  39810.0\n",
       " \n",
       " [212 rows x 3 columns],\n",
       " Scenario    Actual  Lockdown       Main\n",
       " Date                                   \n",
       " 2020-09-01   42959   42959.0    42959.0\n",
       " 2020-09-02   43376   43951.0    43951.0\n",
       " 2020-09-03   43814   44982.0    44982.0\n",
       " 2020-09-04   44241   46054.0    46054.0\n",
       " 2020-09-05   44536   47168.0    47168.0\n",
       " ...            ...       ...        ...\n",
       " 2021-03-27  593599  414866.0  3121654.0\n",
       " 2021-03-28  594593  414867.0  3127251.0\n",
       " 2021-03-29  597125  414868.0  3132677.0\n",
       " 2021-03-30  599218  414870.0  3137938.0\n",
       " 2021-03-31  601350  414870.0  3143039.0\n",
       " \n",
       " [212 rows x 3 columns])"
      ]
     },
     "execution_count": 31,
     "metadata": {},
     "output_type": "execute_result"
    },
    {
     "data": {
      "image/png": "[encoded data removed]",
      "text/plain": [
       "<Figure size 648x432 with 2 Axes>"
      ]
     },
     "metadata": {},
     "output_type": "display_data"
    }
   ],
   "source": [
    "a.create_scenario(name=\"Lockdown\",\n",
    "                  scenario_end_list=[\"31Mar2021\",\"20Apr2021\",\"30Apr2021\"],\n",
    "                  rho_constant_list=[0.5,],\n",
    "                  sigma_constant_list=[1],\n",
    "                  kappa_constant_list=[1],\n",
    "                  theta_constant_list=[1],\n",
    "                  plot=False)"
   ]
  }
 ],
 "metadata": {
  "kernelspec": {
   "display_name": "Python 3 (Spyder)",
   "language": "python3",
   "name": "python3"
  },
  "language_info": {
   "codemirror_mode": {
    "name": "ipython",
    "version": 3
   },
   "file_extension": ".py",
   "mimetype": "text/x-python",
   "name": "python",
   "nbconvert_exporter": "python",
   "pygments_lexer": "ipython3",
   "version": "3.8.13"
  }
 },
 "nbformat": 4,
 "nbformat_minor": 5
}
